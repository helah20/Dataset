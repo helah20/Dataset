{
  "nbformat": 4,
  "nbformat_minor": 0,
  "metadata": {
    "colab": {
      "name": "Copy of Copy of 02_assignment.ipynb",
      "provenance": [],
      "include_colab_link": true
    },
    "kernelspec": {
      "name": "python3",
      "display_name": "Python 3"
    }
  },
  "cells": [
    {
      "cell_type": "markdown",
      "metadata": {
        "id": "view-in-github",
        "colab_type": "text"
      },
      "source": [
        "<a href=\"https://colab.research.google.com/github/helah20/Dataset/blob/main/Copy_of_Copy_of_02_assignment.ipynb\" target=\"_parent\"><img src=\"https://colab.research.google.com/assets/colab-badge.svg\" alt=\"Open In Colab\"/></a>"
      ]
    },
    {
      "cell_type": "markdown",
      "metadata": {
        "id": "oi9AzBId8khJ"
      },
      "source": [
        "**Group members:**\r\n",
        "\r\n",
        "- Shaikha AlBilais\r\n",
        "\r\n",
        "- Rahaf Shiqdar\r\n",
        "\r\n",
        "- Hailah AlHarthi"
      ]
    },
    {
      "cell_type": "markdown",
      "metadata": {
        "id": "93NOZbbEHw0X"
      },
      "source": [
        "# Logistic Regression Assignment\r\n",
        "\r\n",
        "#### Dataset Options\r\n",
        "1. Dog or horse\r\n",
        "    - `https://github.com/gumdropsteve/datasets/raw/master/dog_or_horse.csv`\r\n",
        "    - Note: target variable is `target`.\r\n",
        "2. Customer Churn\r\n",
        "    - `https://github.com/gumdropsteve/intro_to_machine_learning/raw/main/day_05/data/churn_data.csv`\r\n",
        "    - [Data dict](https://docs.google.com/document/d/1SxzoPHWxoLHx_kiPTZEzZOoda2chHbHLdMGAFsGIqCY/edit?usp=sharing)\r\n",
        "    - Note: target variable is `Churn`\r\n"
      ]
    },
    {
      "cell_type": "markdown",
      "metadata": {
        "id": "1-pAYZ79enXP"
      },
      "source": [
        "1. Load in your dataset through its CSV link."
      ]
    },
    {
      "cell_type": "code",
      "metadata": {
        "id": "5QYjsm9EHwTt"
      },
      "source": [
        "import pandas as pd\r\n",
        "import seaborn as sns\r\n",
        "import matplotlib.pyplot as plt\r\n",
        "from sklearn.metrics import *\r\n",
        "\r\n",
        "\r\n"
      ],
      "execution_count": 1,
      "outputs": []
    },
    {
      "cell_type": "code",
      "metadata": {
        "id": "6xnwM4bQguKw"
      },
      "source": [
        "df=pd.read_csv('https://github.com/gumdropsteve/datasets/raw/master/dog_or_horse.csv')"
      ],
      "execution_count": 2,
      "outputs": []
    },
    {
      "cell_type": "markdown",
      "metadata": {
        "id": "5vgZDwSEIDjF"
      },
      "source": [
        "2. Find out some information about the data..."
      ]
    },
    {
      "cell_type": "code",
      "metadata": {
        "id": "LdR4alSHIEFd",
        "colab": {
          "base_uri": "https://localhost:8080/",
          "height": 204
        },
        "outputId": "1db03a85-210d-4604-8623-b9bdac9bfc1f"
      },
      "source": [
        "df.head()"
      ],
      "execution_count": 3,
      "outputs": [
        {
          "output_type": "execute_result",
          "data": {
            "text/html": [
              "<div>\n",
              "<style scoped>\n",
              "    .dataframe tbody tr th:only-of-type {\n",
              "        vertical-align: middle;\n",
              "    }\n",
              "\n",
              "    .dataframe tbody tr th {\n",
              "        vertical-align: top;\n",
              "    }\n",
              "\n",
              "    .dataframe thead th {\n",
              "        text-align: right;\n",
              "    }\n",
              "</style>\n",
              "<table border=\"1\" class=\"dataframe\">\n",
              "  <thead>\n",
              "    <tr style=\"text-align: right;\">\n",
              "      <th></th>\n",
              "      <th>height</th>\n",
              "      <th>weight</th>\n",
              "      <th>target</th>\n",
              "      <th>type</th>\n",
              "    </tr>\n",
              "  </thead>\n",
              "  <tbody>\n",
              "    <tr>\n",
              "      <th>0</th>\n",
              "      <td>27.0</td>\n",
              "      <td>71.0</td>\n",
              "      <td>0.0</td>\n",
              "      <td>dog</td>\n",
              "    </tr>\n",
              "    <tr>\n",
              "      <th>1</th>\n",
              "      <td>27.0</td>\n",
              "      <td>92.0</td>\n",
              "      <td>0.0</td>\n",
              "      <td>dog</td>\n",
              "    </tr>\n",
              "    <tr>\n",
              "      <th>2</th>\n",
              "      <td>32.0</td>\n",
              "      <td>47.0</td>\n",
              "      <td>0.0</td>\n",
              "      <td>dog</td>\n",
              "    </tr>\n",
              "    <tr>\n",
              "      <th>3</th>\n",
              "      <td>30.0</td>\n",
              "      <td>90.0</td>\n",
              "      <td>0.0</td>\n",
              "      <td>dog</td>\n",
              "    </tr>\n",
              "    <tr>\n",
              "      <th>4</th>\n",
              "      <td>28.0</td>\n",
              "      <td>91.0</td>\n",
              "      <td>0.0</td>\n",
              "      <td>dog</td>\n",
              "    </tr>\n",
              "  </tbody>\n",
              "</table>\n",
              "</div>"
            ],
            "text/plain": [
              "   height  weight  target type\n",
              "0    27.0    71.0     0.0  dog\n",
              "1    27.0    92.0     0.0  dog\n",
              "2    32.0    47.0     0.0  dog\n",
              "3    30.0    90.0     0.0  dog\n",
              "4    28.0    91.0     0.0  dog"
            ]
          },
          "metadata": {
            "tags": []
          },
          "execution_count": 3
        }
      ]
    },
    {
      "cell_type": "code",
      "metadata": {
        "id": "369HTL1UiZRT",
        "colab": {
          "base_uri": "https://localhost:8080/",
          "height": 204
        },
        "outputId": "2a4c7cd5-9c87-4353-a1e6-7423dbfd1df4"
      },
      "source": [
        "df.tail()"
      ],
      "execution_count": 4,
      "outputs": [
        {
          "output_type": "execute_result",
          "data": {
            "text/html": [
              "<div>\n",
              "<style scoped>\n",
              "    .dataframe tbody tr th:only-of-type {\n",
              "        vertical-align: middle;\n",
              "    }\n",
              "\n",
              "    .dataframe tbody tr th {\n",
              "        vertical-align: top;\n",
              "    }\n",
              "\n",
              "    .dataframe thead th {\n",
              "        text-align: right;\n",
              "    }\n",
              "</style>\n",
              "<table border=\"1\" class=\"dataframe\">\n",
              "  <thead>\n",
              "    <tr style=\"text-align: right;\">\n",
              "      <th></th>\n",
              "      <th>height</th>\n",
              "      <th>weight</th>\n",
              "      <th>target</th>\n",
              "      <th>type</th>\n",
              "    </tr>\n",
              "  </thead>\n",
              "  <tbody>\n",
              "    <tr>\n",
              "      <th>195</th>\n",
              "      <td>55.0</td>\n",
              "      <td>140.0</td>\n",
              "      <td>1.0</td>\n",
              "      <td>horse</td>\n",
              "    </tr>\n",
              "    <tr>\n",
              "      <th>196</th>\n",
              "      <td>82.0</td>\n",
              "      <td>179.0</td>\n",
              "      <td>1.0</td>\n",
              "      <td>horse</td>\n",
              "    </tr>\n",
              "    <tr>\n",
              "      <th>197</th>\n",
              "      <td>46.0</td>\n",
              "      <td>132.0</td>\n",
              "      <td>1.0</td>\n",
              "      <td>horse</td>\n",
              "    </tr>\n",
              "    <tr>\n",
              "      <th>198</th>\n",
              "      <td>56.0</td>\n",
              "      <td>89.0</td>\n",
              "      <td>1.0</td>\n",
              "      <td>horse</td>\n",
              "    </tr>\n",
              "    <tr>\n",
              "      <th>199</th>\n",
              "      <td>58.0</td>\n",
              "      <td>98.0</td>\n",
              "      <td>1.0</td>\n",
              "      <td>horse</td>\n",
              "    </tr>\n",
              "  </tbody>\n",
              "</table>\n",
              "</div>"
            ],
            "text/plain": [
              "     height  weight  target   type\n",
              "195    55.0   140.0     1.0  horse\n",
              "196    82.0   179.0     1.0  horse\n",
              "197    46.0   132.0     1.0  horse\n",
              "198    56.0    89.0     1.0  horse\n",
              "199    58.0    98.0     1.0  horse"
            ]
          },
          "metadata": {
            "tags": []
          },
          "execution_count": 4
        }
      ]
    },
    {
      "cell_type": "code",
      "metadata": {
        "id": "X9gM8nxdhmis",
        "colab": {
          "base_uri": "https://localhost:8080/"
        },
        "outputId": "93e3035b-893d-4f63-84d3-a7e375403e37"
      },
      "source": [
        "df.info()"
      ],
      "execution_count": 5,
      "outputs": [
        {
          "output_type": "stream",
          "text": [
            "<class 'pandas.core.frame.DataFrame'>\n",
            "RangeIndex: 200 entries, 0 to 199\n",
            "Data columns (total 4 columns):\n",
            " #   Column  Non-Null Count  Dtype  \n",
            "---  ------  --------------  -----  \n",
            " 0   height  200 non-null    float64\n",
            " 1   weight  200 non-null    float64\n",
            " 2   target  200 non-null    float64\n",
            " 3   type    200 non-null    object \n",
            "dtypes: float64(3), object(1)\n",
            "memory usage: 6.4+ KB\n"
          ],
          "name": "stdout"
        }
      ]
    },
    {
      "cell_type": "code",
      "metadata": {
        "id": "7CXr_Sx1ew9T",
        "colab": {
          "base_uri": "https://localhost:8080/",
          "height": 80
        },
        "outputId": "2b531040-88b7-48ab-bfca-bdd3d9a5687e"
      },
      "source": [
        "df.sample()"
      ],
      "execution_count": 6,
      "outputs": [
        {
          "output_type": "execute_result",
          "data": {
            "text/html": [
              "<div>\n",
              "<style scoped>\n",
              "    .dataframe tbody tr th:only-of-type {\n",
              "        vertical-align: middle;\n",
              "    }\n",
              "\n",
              "    .dataframe tbody tr th {\n",
              "        vertical-align: top;\n",
              "    }\n",
              "\n",
              "    .dataframe thead th {\n",
              "        text-align: right;\n",
              "    }\n",
              "</style>\n",
              "<table border=\"1\" class=\"dataframe\">\n",
              "  <thead>\n",
              "    <tr style=\"text-align: right;\">\n",
              "      <th></th>\n",
              "      <th>height</th>\n",
              "      <th>weight</th>\n",
              "      <th>target</th>\n",
              "      <th>type</th>\n",
              "    </tr>\n",
              "  </thead>\n",
              "  <tbody>\n",
              "    <tr>\n",
              "      <th>91</th>\n",
              "      <td>36.0</td>\n",
              "      <td>99.0</td>\n",
              "      <td>0.0</td>\n",
              "      <td>dog</td>\n",
              "    </tr>\n",
              "  </tbody>\n",
              "</table>\n",
              "</div>"
            ],
            "text/plain": [
              "    height  weight  target type\n",
              "91    36.0    99.0     0.0  dog"
            ]
          },
          "metadata": {
            "tags": []
          },
          "execution_count": 6
        }
      ]
    },
    {
      "cell_type": "code",
      "metadata": {
        "id": "fADazPVWIFRu",
        "colab": {
          "base_uri": "https://localhost:8080/"
        },
        "outputId": "68d67312-7fad-438f-c701-3bb0aababb85"
      },
      "source": [
        "df.shape"
      ],
      "execution_count": 7,
      "outputs": [
        {
          "output_type": "execute_result",
          "data": {
            "text/plain": [
              "(200, 4)"
            ]
          },
          "metadata": {
            "tags": []
          },
          "execution_count": 7
        }
      ]
    },
    {
      "cell_type": "code",
      "metadata": {
        "id": "elvyQrfhimh6",
        "colab": {
          "base_uri": "https://localhost:8080/"
        },
        "outputId": "3ba3b0a3-a3ae-420e-c8cb-c1e81df6bd96"
      },
      "source": [
        "df.describe"
      ],
      "execution_count": 8,
      "outputs": [
        {
          "output_type": "execute_result",
          "data": {
            "text/plain": [
              "<bound method NDFrame.describe of      height  weight  target   type\n",
              "0      27.0    71.0     0.0    dog\n",
              "1      27.0    92.0     0.0    dog\n",
              "2      32.0    47.0     0.0    dog\n",
              "3      30.0    90.0     0.0    dog\n",
              "4      28.0    91.0     0.0    dog\n",
              "..      ...     ...     ...    ...\n",
              "195    55.0   140.0     1.0  horse\n",
              "196    82.0   179.0     1.0  horse\n",
              "197    46.0   132.0     1.0  horse\n",
              "198    56.0    89.0     1.0  horse\n",
              "199    58.0    98.0     1.0  horse\n",
              "\n",
              "[200 rows x 4 columns]>"
            ]
          },
          "metadata": {
            "tags": []
          },
          "execution_count": 8
        }
      ]
    },
    {
      "cell_type": "code",
      "metadata": {
        "id": "vK7uxx1git8m",
        "colab": {
          "base_uri": "https://localhost:8080/"
        },
        "outputId": "ed4e5747-ec1d-432e-886c-a981e4de4f97"
      },
      "source": [
        "# Identify if there is any missing values\r\n",
        "\r\n",
        "df.isnull().sum()\r\n"
      ],
      "execution_count": 9,
      "outputs": [
        {
          "output_type": "execute_result",
          "data": {
            "text/plain": [
              "height    0\n",
              "weight    0\n",
              "target    0\n",
              "type      0\n",
              "dtype: int64"
            ]
          },
          "metadata": {
            "tags": []
          },
          "execution_count": 9
        }
      ]
    },
    {
      "cell_type": "code",
      "metadata": {
        "id": "4RN_GFM8iurV",
        "colab": {
          "base_uri": "https://localhost:8080/"
        },
        "outputId": "484391d4-7c5d-4354-f767-580cdc39ee4f"
      },
      "source": [
        "df.type.value_counts()"
      ],
      "execution_count": 10,
      "outputs": [
        {
          "output_type": "execute_result",
          "data": {
            "text/plain": [
              "horse    100\n",
              "dog      100\n",
              "Name: type, dtype: int64"
            ]
          },
          "metadata": {
            "tags": []
          },
          "execution_count": 10
        }
      ]
    },
    {
      "cell_type": "code",
      "metadata": {
        "id": "kjOUbc2qlsVk",
        "colab": {
          "base_uri": "https://localhost:8080/"
        },
        "outputId": "b961a407-0fe5-4b30-a970-fa91813dd6fc"
      },
      "source": [
        "df.target.value_counts()"
      ],
      "execution_count": 11,
      "outputs": [
        {
          "output_type": "execute_result",
          "data": {
            "text/plain": [
              "1.0    100\n",
              "0.0    100\n",
              "Name: target, dtype: int64"
            ]
          },
          "metadata": {
            "tags": []
          },
          "execution_count": 11
        }
      ]
    },
    {
      "cell_type": "markdown",
      "metadata": {
        "id": "4FsmeuGnIOYd"
      },
      "source": [
        "3. Show me the relationships in your data... \r\n",
        "- corr ([help](https://stackoverflow.com/a/50703596/11074111))\r\n",
        "- pariplot\r\n",
        "- some other visualization(s) (of your choice)"
      ]
    },
    {
      "cell_type": "code",
      "metadata": {
        "id": "hoW-M_ObIiqn",
        "colab": {
          "base_uri": "https://localhost:8080/",
          "height": 142
        },
        "outputId": "8aa431a0-d758-4690-f987-4d3c7057fb66"
      },
      "source": [
        "corr=df.corr()\r\n",
        "corr"
      ],
      "execution_count": 12,
      "outputs": [
        {
          "output_type": "execute_result",
          "data": {
            "text/html": [
              "<div>\n",
              "<style scoped>\n",
              "    .dataframe tbody tr th:only-of-type {\n",
              "        vertical-align: middle;\n",
              "    }\n",
              "\n",
              "    .dataframe tbody tr th {\n",
              "        vertical-align: top;\n",
              "    }\n",
              "\n",
              "    .dataframe thead th {\n",
              "        text-align: right;\n",
              "    }\n",
              "</style>\n",
              "<table border=\"1\" class=\"dataframe\">\n",
              "  <thead>\n",
              "    <tr style=\"text-align: right;\">\n",
              "      <th></th>\n",
              "      <th>height</th>\n",
              "      <th>weight</th>\n",
              "      <th>target</th>\n",
              "    </tr>\n",
              "  </thead>\n",
              "  <tbody>\n",
              "    <tr>\n",
              "      <th>height</th>\n",
              "      <td>1.000000</td>\n",
              "      <td>0.703149</td>\n",
              "      <td>0.842168</td>\n",
              "    </tr>\n",
              "    <tr>\n",
              "      <th>weight</th>\n",
              "      <td>0.703149</td>\n",
              "      <td>1.000000</td>\n",
              "      <td>0.771663</td>\n",
              "    </tr>\n",
              "    <tr>\n",
              "      <th>target</th>\n",
              "      <td>0.842168</td>\n",
              "      <td>0.771663</td>\n",
              "      <td>1.000000</td>\n",
              "    </tr>\n",
              "  </tbody>\n",
              "</table>\n",
              "</div>"
            ],
            "text/plain": [
              "          height    weight    target\n",
              "height  1.000000  0.703149  0.842168\n",
              "weight  0.703149  1.000000  0.771663\n",
              "target  0.842168  0.771663  1.000000"
            ]
          },
          "metadata": {
            "tags": []
          },
          "execution_count": 12
        }
      ]
    },
    {
      "cell_type": "code",
      "metadata": {
        "id": "Ot7E5UTwjbiG",
        "colab": {
          "base_uri": "https://localhost:8080/",
          "height": 391
        },
        "outputId": "570e434c-e5f5-4dd4-ee2c-988c50bea02c"
      },
      "source": [
        "sns.pairplot(df, hue='target') # seems wierd that's dog's hieght is greater than the hourse's\r\n"
      ],
      "execution_count": 13,
      "outputs": [
        {
          "output_type": "execute_result",
          "data": {
            "text/plain": [
              "<seaborn.axisgrid.PairGrid at 0x7f0a3d6876d8>"
            ]
          },
          "metadata": {
            "tags": []
          },
          "execution_count": 13
        },
        {
          "output_type": "display_data",
          "data": {
            "image/png": "[encoded data removed]",
            "text/plain": [
              "<Figure size 411.875x360 with 6 Axes>"
            ]
          },
          "metadata": {
            "tags": [],
            "needs_background": "light"
          }
        }
      ]
    },
    {
      "cell_type": "code",
      "metadata": {
        "id": "8GIoe1EZlIu_",
        "colab": {
          "base_uri": "https://localhost:8080/",
          "height": 633
        },
        "outputId": "5840265c-4a40-410a-f459-bde20f095583"
      },
      "source": [
        "sns.set_theme(style=\"ticks\")\r\n",
        "sns.pairplot(df, hue=\"type\")\r\n"
      ],
      "execution_count": 14,
      "outputs": [
        {
          "output_type": "stream",
          "text": [
            "/usr/local/lib/python3.6/dist-packages/seaborn/distributions.py:306: UserWarning: Dataset has 0 variance; skipping density estimate.\n",
            "  warnings.warn(msg, UserWarning)\n",
            "/usr/local/lib/python3.6/dist-packages/seaborn/distributions.py:306: UserWarning: Dataset has 0 variance; skipping density estimate.\n",
            "  warnings.warn(msg, UserWarning)\n"
          ],
          "name": "stderr"
        },
        {
          "output_type": "execute_result",
          "data": {
            "text/plain": [
              "<seaborn.axisgrid.PairGrid at 0x7f0a34967f28>"
            ]
          },
          "metadata": {
            "tags": []
          },
          "execution_count": 14
        },
        {
          "output_type": "display_data",
          "data": {
            "image/png": "[encoded data removed]",
            "text/plain": [
              "<Figure size 610.6x540 with 12 Axes>"
            ]
          },
          "metadata": {
            "tags": []
          }
        }
      ]
    },
    {
      "cell_type": "code",
      "metadata": {
        "id": "VBXaHetdkoOg",
        "colab": {
          "base_uri": "https://localhost:8080/",
          "height": 399
        },
        "outputId": "728a2f7c-1d65-42d5-b208-d3fbabd73921"
      },
      "source": [
        "sns.lmplot(\r\n",
        "    data=df,\r\n",
        "    x=\"height\", y=\"weight\", hue=\"type\",\r\n",
        "    height=5\r\n",
        ")\r\n"
      ],
      "execution_count": 15,
      "outputs": [
        {
          "output_type": "execute_result",
          "data": {
            "text/plain": [
              "<seaborn.axisgrid.FacetGrid at 0x7f0a33912860>"
            ]
          },
          "metadata": {
            "tags": []
          },
          "execution_count": 15
        },
        {
          "output_type": "display_data",
          "data": {
            "image/png": "[encoded data removed]",
            "text/plain": [
              "<Figure size 430.6x360 with 1 Axes>"
            ]
          },
          "metadata": {
            "tags": []
          }
        }
      ]
    },
    {
      "cell_type": "code",
      "metadata": {
        "id": "k8igHaRaIjMF",
        "colab": {
          "base_uri": "https://localhost:8080/",
          "height": 887
        },
        "outputId": "1a040a7e-4a03-4812-e40e-4aa997946fc8"
      },
      "source": [
        "plt.figure(figsize=(15,15))\r\n",
        "sns.heatmap(df.corr(), annot=True)"
      ],
      "execution_count": 16,
      "outputs": [
        {
          "output_type": "execute_result",
          "data": {
            "text/plain": [
              "<matplotlib.axes._subplots.AxesSubplot at 0x7f0a32091b70>"
            ]
          },
          "metadata": {
            "tags": []
          },
          "execution_count": 16
        },
        {
          "output_type": "display_data",
          "data": {
            "image/png": "[encoded data removed]",
            "text/plain": [
              "<Figure size 1080x1080 with 2 Axes>"
            ]
          },
          "metadata": {
            "tags": []
          }
        }
      ]
    },
    {
      "cell_type": "code",
      "metadata": {
        "id": "v0i8HnN6IjTs",
        "colab": {
          "base_uri": "https://localhost:8080/"
        },
        "outputId": "6ae2951b-5a1d-44f6-fd31-4c7c3e04c42a"
      },
      "source": [
        "df.columns"
      ],
      "execution_count": 17,
      "outputs": [
        {
          "output_type": "execute_result",
          "data": {
            "text/plain": [
              "Index(['height', 'weight', 'target', 'type'], dtype='object')"
            ]
          },
          "metadata": {
            "tags": []
          },
          "execution_count": 17
        }
      ]
    },
    {
      "cell_type": "markdown",
      "metadata": {
        "id": "9IhRygRcJBBy"
      },
      "source": [
        "4. Split your data into training and testing datasets..."
      ]
    },
    {
      "cell_type": "code",
      "metadata": {
        "id": "LAdc8dOSJEof"
      },
      "source": [
        "from sklearn.model_selection import train_test_split\r\n",
        "\r\n",
        "\r\n",
        "X = df[['height']]\r\n",
        "y = df['target'].values\r\n",
        "\r\n",
        "\r\n",
        "\r\n",
        "X_train, X_test, y_train, y_test = train_test_split(X, y, train_size=0.7)"
      ],
      "execution_count": 18,
      "outputs": []
    },
    {
      "cell_type": "markdown",
      "metadata": {
        "id": "vAEzLu-7ItC5"
      },
      "source": [
        "5. Import, create, and fit a LogisticRegression model with 1 variable"
      ]
    },
    {
      "cell_type": "code",
      "metadata": {
        "id": "34aVrxcNIv4d"
      },
      "source": [
        "from sklearn.linear_model import LogisticRegression # 1- initialze the model\r\n",
        "\r\n",
        "lr = LogisticRegression()"
      ],
      "execution_count": 19,
      "outputs": []
    },
    {
      "cell_type": "code",
      "metadata": {
        "id": "vwu1bH1_JK6V",
        "colab": {
          "base_uri": "https://localhost:8080/"
        },
        "outputId": "22ddf7fe-3120-401c-cd0a-4f6ad01a328e"
      },
      "source": [
        "lr.fit(X_train , y_train)"
      ],
      "execution_count": 20,
      "outputs": [
        {
          "output_type": "execute_result",
          "data": {
            "text/plain": [
              "LogisticRegression(C=1.0, class_weight=None, dual=False, fit_intercept=True,\n",
              "                   intercept_scaling=1, l1_ratio=None, max_iter=100,\n",
              "                   multi_class='auto', n_jobs=None, penalty='l2',\n",
              "                   random_state=None, solver='lbfgs', tol=0.0001, verbose=0,\n",
              "                   warm_start=False)"
            ]
          },
          "metadata": {
            "tags": []
          },
          "execution_count": 20
        }
      ]
    },
    {
      "cell_type": "markdown",
      "metadata": {
        "id": "C4jtgDpVIysR"
      },
      "source": [
        "6. Make predictions on your `X_test` values..."
      ]
    },
    {
      "cell_type": "code",
      "metadata": {
        "id": "6n7j9lyYJQhj",
        "colab": {
          "base_uri": "https://localhost:8080/"
        },
        "outputId": "9b295686-7866-4ef7-bb34-4b09469df49a"
      },
      "source": [
        "# Predict for training set\r\n",
        "y_train_predict = lr.predict(X_train)\r\n",
        "\r\n",
        "y_train_predict"
      ],
      "execution_count": 21,
      "outputs": [
        {
          "output_type": "execute_result",
          "data": {
            "text/plain": [
              "array([1., 1., 1., 0., 0., 1., 1., 0., 1., 0., 0., 0., 0., 0., 1., 1., 0.,\n",
              "       1., 1., 1., 1., 0., 0., 1., 0., 0., 0., 1., 0., 1., 1., 1., 1., 1.,\n",
              "       1., 0., 1., 1., 0., 1., 1., 0., 0., 0., 1., 1., 0., 0., 0., 1., 0.,\n",
              "       0., 1., 1., 0., 1., 0., 0., 0., 0., 1., 1., 1., 0., 1., 1., 0., 1.,\n",
              "       0., 1., 0., 0., 0., 0., 1., 1., 1., 1., 1., 0., 1., 1., 0., 0., 1.,\n",
              "       1., 0., 0., 0., 1., 1., 0., 1., 0., 1., 0., 0., 1., 0., 0., 0., 1.,\n",
              "       1., 0., 1., 1., 1., 1., 1., 0., 0., 0., 0., 0., 1., 0., 0., 1., 0.,\n",
              "       0., 0., 1., 1., 1., 0., 1., 1., 0., 0., 1., 0., 1., 1., 1., 0., 1.,\n",
              "       0., 1., 1., 0.])"
            ]
          },
          "metadata": {
            "tags": []
          },
          "execution_count": 21
        }
      ]
    },
    {
      "cell_type": "code",
      "metadata": {
        "id": "RYC3Fnr6onrR"
      },
      "source": [
        "# Predict for training set\r\n",
        "y_test_predict  = lr.predict(X_test)\r\n"
      ],
      "execution_count": 22,
      "outputs": []
    },
    {
      "cell_type": "code",
      "metadata": {
        "id": "Yt0ohN6bJR9s",
        "colab": {
          "base_uri": "https://localhost:8080/"
        },
        "outputId": "e8b4d44f-3bb4-44a0-c0e2-193ecddd1628"
      },
      "source": [
        "# what do they look like? (show me some of the predictions)\r\n",
        "y_test_predict"
      ],
      "execution_count": 23,
      "outputs": [
        {
          "output_type": "execute_result",
          "data": {
            "text/plain": [
              "array([0., 1., 0., 0., 0., 0., 0., 1., 0., 1., 0., 0., 1., 0., 1., 0., 1.,\n",
              "       1., 1., 0., 1., 1., 1., 1., 0., 0., 1., 1., 0., 0., 1., 0., 1., 1.,\n",
              "       0., 0., 0., 0., 1., 1., 1., 0., 0., 1., 1., 0., 0., 0., 0., 0., 0.,\n",
              "       0., 1., 0., 1., 1., 1., 0., 1., 0.])"
            ]
          },
          "metadata": {
            "tags": []
          },
          "execution_count": 23
        }
      ]
    },
    {
      "cell_type": "markdown",
      "metadata": {
        "id": "0MH2sdLGJYGo"
      },
      "source": [
        "7. Score your model...\r\n",
        "- accuracy_score\r\n",
        "- confusion_matrix"
      ]
    },
    {
      "cell_type": "code",
      "metadata": {
        "id": "usvuHfuCoOPl",
        "colab": {
          "base_uri": "https://localhost:8080/"
        },
        "outputId": "6c4c93a2-cc6d-4140-d5d7-62ba1d2510ff"
      },
      "source": [
        "from sklearn.metrics import accuracy_score\r\n",
        "accuracy_score(y_test,y_test_predict )\r\n"
      ],
      "execution_count": 24,
      "outputs": [
        {
          "output_type": "execute_result",
          "data": {
            "text/plain": [
              "0.95"
            ]
          },
          "metadata": {
            "tags": []
          },
          "execution_count": 24
        }
      ]
    },
    {
      "cell_type": "code",
      "metadata": {
        "id": "hcFpJLKX3-Qi",
        "colab": {
          "base_uri": "https://localhost:8080/"
        },
        "outputId": "e3c3b241-3a78-40f8-a09d-19f0aee76b6d"
      },
      "source": [
        "from sklearn.metrics import r2_score\r\n",
        "y_true=y_test\r\n",
        "y_pred=y_test_predict\r\n",
        "\r\n",
        "r2  = r2_score(y_true, y_pred)\r\n",
        "r2"
      ],
      "execution_count": 25,
      "outputs": [
        {
          "output_type": "execute_result",
          "data": {
            "text/plain": [
              "0.8"
            ]
          },
          "metadata": {
            "tags": []
          },
          "execution_count": 25
        }
      ]
    },
    {
      "cell_type": "code",
      "metadata": {
        "id": "AufZAH5xpQk3",
        "colab": {
          "base_uri": "https://localhost:8080/",
          "height": 284
        },
        "outputId": "443864c4-12f2-423d-c166-68583e058afa"
      },
      "source": [
        "con = lr.predict(X_test)\r\n",
        "cf = confusion_matrix(y_test, con)\r\n",
        "sns.heatmap(cf, annot=True).set_title(\"Confusion Matrix\");\r\n"
      ],
      "execution_count": 26,
      "outputs": [
        {
          "output_type": "display_data",
          "data": {
            "image/png": "[encoded data removed]",
            "text/plain": [
              "<Figure size 432x288 with 2 Axes>"
            ]
          },
          "metadata": {
            "tags": []
          }
        }
      ]
    },
    {
      "cell_type": "markdown",
      "metadata": {
        "id": "KDpe83ogJgg3"
      },
      "source": [
        "8. Create, and fit a LogisticRegression model with **more than** 1 variable"
      ]
    },
    {
      "cell_type": "code",
      "metadata": {
        "id": "xTe4zkKSqJpI",
        "colab": {
          "base_uri": "https://localhost:8080/"
        },
        "outputId": "61b796a3-87f8-42d0-fd8b-f320e9c1e1da"
      },
      "source": [
        "df.columns"
      ],
      "execution_count": 27,
      "outputs": [
        {
          "output_type": "execute_result",
          "data": {
            "text/plain": [
              "Index(['height', 'weight', 'target', 'type'], dtype='object')"
            ]
          },
          "metadata": {
            "tags": []
          },
          "execution_count": 27
        }
      ]
    },
    {
      "cell_type": "code",
      "metadata": {
        "id": "ihXsRPtTJp7m"
      },
      "source": [
        "X=df[['height', 'weight']]\r\n",
        "y=df.target\r\n",
        "z = df[list(X)].values\r\n",
        "\r\n",
        "\r\n",
        "X_train, X_test, y_train, y_test = train_test_split(z, y, train_size=0.7)\r\n"
      ],
      "execution_count": 28,
      "outputs": []
    },
    {
      "cell_type": "code",
      "metadata": {
        "id": "zNWI4VCMsx0L"
      },
      "source": [
        "\r\n",
        "lr2 = LogisticRegression()"
      ],
      "execution_count": 29,
      "outputs": []
    },
    {
      "cell_type": "code",
      "metadata": {
        "id": "iDoNsF_xtAXh",
        "colab": {
          "base_uri": "https://localhost:8080/"
        },
        "outputId": "53c168bb-e3ac-462f-8d0a-729373e2bd36"
      },
      "source": [
        "lr2.fit(X_train,y_train)"
      ],
      "execution_count": 30,
      "outputs": [
        {
          "output_type": "execute_result",
          "data": {
            "text/plain": [
              "LogisticRegression(C=1.0, class_weight=None, dual=False, fit_intercept=True,\n",
              "                   intercept_scaling=1, l1_ratio=None, max_iter=100,\n",
              "                   multi_class='auto', n_jobs=None, penalty='l2',\n",
              "                   random_state=None, solver='lbfgs', tol=0.0001, verbose=0,\n",
              "                   warm_start=False)"
            ]
          },
          "metadata": {
            "tags": []
          },
          "execution_count": 30
        }
      ]
    },
    {
      "cell_type": "markdown",
      "metadata": {
        "id": "SJCKwpNXJutC"
      },
      "source": [
        "9. Make predictions on your `X_test` values..."
      ]
    },
    {
      "cell_type": "code",
      "metadata": {
        "id": "FNP-bRjesbc2",
        "colab": {
          "base_uri": "https://localhost:8080/"
        },
        "outputId": "ee688b5d-89bc-4b87-9c62-7f63f8c9224b"
      },
      "source": [
        "# Predict for training set\r\n",
        "y_train_predict2 = lr2.predict(X_train)\r\n",
        "\r\n",
        "y_train_predict2"
      ],
      "execution_count": 31,
      "outputs": [
        {
          "output_type": "execute_result",
          "data": {
            "text/plain": [
              "array([1., 1., 0., 1., 1., 1., 0., 0., 1., 1., 1., 1., 1., 1., 0., 1., 1.,\n",
              "       1., 0., 0., 0., 0., 1., 1., 1., 1., 1., 1., 0., 0., 0., 1., 0., 0.,\n",
              "       1., 0., 0., 1., 1., 0., 1., 1., 0., 1., 1., 1., 1., 1., 1., 0., 1.,\n",
              "       1., 0., 0., 0., 0., 1., 0., 0., 1., 1., 0., 1., 0., 1., 0., 1., 1.,\n",
              "       0., 0., 0., 0., 1., 0., 1., 0., 0., 0., 1., 1., 1., 0., 0., 1., 0.,\n",
              "       0., 1., 1., 1., 0., 0., 0., 1., 1., 0., 1., 0., 0., 0., 0., 0., 1.,\n",
              "       1., 1., 0., 0., 1., 1., 0., 0., 0., 1., 0., 1., 1., 1., 0., 0., 0.,\n",
              "       1., 1., 0., 0., 1., 0., 0., 1., 1., 0., 0., 0., 0., 1., 1., 1., 1.,\n",
              "       1., 0., 1., 0.])"
            ]
          },
          "metadata": {
            "tags": []
          },
          "execution_count": 31
        }
      ]
    },
    {
      "cell_type": "code",
      "metadata": {
        "id": "3VufixeEsRyV",
        "colab": {
          "base_uri": "https://localhost:8080/"
        },
        "outputId": "ef8e805c-14c6-48fe-def5-75eda2b15b80"
      },
      "source": [
        "y_test_predict2  = lr2.predict(X_test)\r\n",
        "y_test_predict2"
      ],
      "execution_count": 32,
      "outputs": [
        {
          "output_type": "execute_result",
          "data": {
            "text/plain": [
              "array([0., 0., 0., 1., 1., 1., 0., 1., 1., 1., 0., 0., 0., 0., 0., 1., 0.,\n",
              "       0., 1., 1., 0., 1., 1., 1., 0., 1., 1., 1., 0., 0., 1., 0., 0., 0.,\n",
              "       0., 1., 1., 1., 1., 0., 0., 1., 1., 0., 0., 0., 0., 1., 0., 0., 0.,\n",
              "       1., 1., 0., 1., 1., 0., 0., 1., 1.])"
            ]
          },
          "metadata": {
            "tags": []
          },
          "execution_count": 32
        }
      ]
    },
    {
      "cell_type": "code",
      "metadata": {
        "id": "V8fRIPrqJzF5",
        "colab": {
          "base_uri": "https://localhost:8080/"
        },
        "outputId": "8bf54987-926f-4d99-ea28-b4d3a75c8c36"
      },
      "source": [
        "# what do they look like? (show me some of the predictions)\r\n",
        "y_test_predict[1:5]"
      ],
      "execution_count": 33,
      "outputs": [
        {
          "output_type": "execute_result",
          "data": {
            "text/plain": [
              "array([1., 0., 0., 0.])"
            ]
          },
          "metadata": {
            "tags": []
          },
          "execution_count": 33
        }
      ]
    },
    {
      "cell_type": "markdown",
      "metadata": {
        "id": "8rdbAft1JzZR"
      },
      "source": [
        "10. Score your model...\r\n",
        "- accuracy_score\r\n",
        "- confusion_matrix"
      ]
    },
    {
      "cell_type": "code",
      "metadata": {
        "id": "uQn0WPxbJ1wi",
        "colab": {
          "base_uri": "https://localhost:8080/"
        },
        "outputId": "dded5489-68af-4dad-cd2f-3b1829ec341d"
      },
      "source": [
        "accuracy_score(y_test,y_test_predict2 )"
      ],
      "execution_count": 34,
      "outputs": [
        {
          "output_type": "execute_result",
          "data": {
            "text/plain": [
              "0.9666666666666667"
            ]
          },
          "metadata": {
            "tags": []
          },
          "execution_count": 34
        }
      ]
    },
    {
      "cell_type": "code",
      "metadata": {
        "id": "PFY1KgGz3xZS",
        "colab": {
          "base_uri": "https://localhost:8080/"
        },
        "outputId": "2221b56b-3195-41b8-9998-722d5b0c6517"
      },
      "source": [
        "from sklearn.metrics import r2_score\r\n",
        "y_true=y_test\r\n",
        "y_pred=y_test_predict2\r\n",
        "\r\n",
        "r2  = r2_score(y_true, y_pred)\r\n",
        "r2"
      ],
      "execution_count": 35,
      "outputs": [
        {
          "output_type": "execute_result",
          "data": {
            "text/plain": [
              "0.8653198653198654"
            ]
          },
          "metadata": {
            "tags": []
          },
          "execution_count": 35
        }
      ]
    },
    {
      "cell_type": "code",
      "metadata": {
        "id": "wGAaIzfaJ16p",
        "colab": {
          "base_uri": "https://localhost:8080/",
          "height": 284
        },
        "outputId": "0dad0df6-df9c-4f99-9e68-e811750efa94"
      },
      "source": [
        "con = lr2.predict(X_test)\r\n",
        "cf = confusion_matrix(y_test, con)\r\n",
        "sns.heatmap(cf, annot=True).set_title(\"Confusion Matrix\");"
      ],
      "execution_count": 36,
      "outputs": [
        {
          "output_type": "display_data",
          "data": {
            "image/png": "[encoded data removed]",
            "text/plain": [
              "<Figure size 432x288 with 2 Axes>"
            ]
          },
          "metadata": {
            "tags": []
          }
        }
      ]
    },
    {
      "cell_type": "markdown",
      "metadata": {
        "id": "mdnhA-_aJ2QG"
      },
      "source": [
        "11. Which model is better? Why?\r\n",
        "\r\n",
        "When we did the comparison between the false positive in both models, we found that in 1st model the false positive chances are hiegher than the 2nd modele chances , so we obtain that when we use multiple featuer we got higher accuraty score "
      ]
    },
    {
      "cell_type": "markdown",
      "metadata": {
        "id": "YXq7N9wPKISw"
      },
      "source": [
        "12. Perform GridSearchCV with the better data"
      ]
    },
    {
      "cell_type": "code",
      "metadata": {
        "id": "4FJJsBjuybP8"
      },
      "source": [
        "from sklearn.pipeline import make_pipeline\r\n",
        "\r\n",
        "def LR(**kwargs):\r\n",
        "    return make_pipeline(LogisticRegression(**kwargs))\r\n"
      ],
      "execution_count": 37,
      "outputs": []
    },
    {
      "cell_type": "code",
      "metadata": {
        "id": "JQI1-xzHKZ5t"
      },
      "source": [
        "from sklearn.model_selection import GridSearchCV\r\n",
        "\r\n",
        "param_grid={ 'fit_intercept': [True, False],'solver': ['liblinear'],'max_iter': [10, 100, 250, 1000, 10000]}\r\n",
        "LR =LogisticRegression()\r\n",
        "\r\n",
        "grid =GridSearchCV(LR, param_grid, cv=7)\r\n",
        "\r\n",
        "\r\n",
        "\r\n",
        "\r\n"
      ],
      "execution_count": 38,
      "outputs": []
    },
    {
      "cell_type": "code",
      "metadata": {
        "id": "ZuD63G_ARo0U",
        "colab": {
          "base_uri": "https://localhost:8080/"
        },
        "outputId": "bc3c6ef2-dbe5-4373-9e30-763a331ae20a"
      },
      "source": [
        "grid.fit(X_train, y_train)"
      ],
      "execution_count": 39,
      "outputs": [
        {
          "output_type": "stream",
          "text": [
            "/usr/local/lib/python3.6/dist-packages/sklearn/svm/_base.py:947: ConvergenceWarning: Liblinear failed to converge, increase the number of iterations.\n",
            "  \"the number of iterations.\", ConvergenceWarning)\n",
            "/usr/local/lib/python3.6/dist-packages/sklearn/svm/_base.py:947: ConvergenceWarning: Liblinear failed to converge, increase the number of iterations.\n",
            "  \"the number of iterations.\", ConvergenceWarning)\n",
            "/usr/local/lib/python3.6/dist-packages/sklearn/svm/_base.py:947: ConvergenceWarning: Liblinear failed to converge, increase the number of iterations.\n",
            "  \"the number of iterations.\", ConvergenceWarning)\n",
            "/usr/local/lib/python3.6/dist-packages/sklearn/svm/_base.py:947: ConvergenceWarning: Liblinear failed to converge, increase the number of iterations.\n",
            "  \"the number of iterations.\", ConvergenceWarning)\n",
            "/usr/local/lib/python3.6/dist-packages/sklearn/svm/_base.py:947: ConvergenceWarning: Liblinear failed to converge, increase the number of iterations.\n",
            "  \"the number of iterations.\", ConvergenceWarning)\n",
            "/usr/local/lib/python3.6/dist-packages/sklearn/svm/_base.py:947: ConvergenceWarning: Liblinear failed to converge, increase the number of iterations.\n",
            "  \"the number of iterations.\", ConvergenceWarning)\n",
            "/usr/local/lib/python3.6/dist-packages/sklearn/svm/_base.py:947: ConvergenceWarning: Liblinear failed to converge, increase the number of iterations.\n",
            "  \"the number of iterations.\", ConvergenceWarning)\n",
            "/usr/local/lib/python3.6/dist-packages/sklearn/svm/_base.py:947: ConvergenceWarning: Liblinear failed to converge, increase the number of iterations.\n",
            "  \"the number of iterations.\", ConvergenceWarning)\n"
          ],
          "name": "stderr"
        },
        {
          "output_type": "execute_result",
          "data": {
            "text/plain": [
              "GridSearchCV(cv=7, error_score=nan,\n",
              "             estimator=LogisticRegression(C=1.0, class_weight=None, dual=False,\n",
              "                                          fit_intercept=True,\n",
              "                                          intercept_scaling=1, l1_ratio=None,\n",
              "                                          max_iter=100, multi_class='auto',\n",
              "                                          n_jobs=None, penalty='l2',\n",
              "                                          random_state=None, solver='lbfgs',\n",
              "                                          tol=0.0001, verbose=0,\n",
              "                                          warm_start=False),\n",
              "             iid='deprecated', n_jobs=None,\n",
              "             param_grid={'fit_intercept': [True, False],\n",
              "                         'max_iter': [10, 100, 250, 1000, 10000],\n",
              "                         'solver': ['liblinear']},\n",
              "             pre_dispatch='2*n_jobs', refit=True, return_train_score=False,\n",
              "             scoring=None, verbose=0)"
            ]
          },
          "metadata": {
            "tags": []
          },
          "execution_count": 39
        }
      ]
    },
    {
      "cell_type": "code",
      "metadata": {
        "id": "rkVFXnrORpMN",
        "colab": {
          "base_uri": "https://localhost:8080/"
        },
        "outputId": "13dfb4c7-c53c-4309-8876-1576b5e6d130"
      },
      "source": [
        "grid.best_params_"
      ],
      "execution_count": 40,
      "outputs": [
        {
          "output_type": "execute_result",
          "data": {
            "text/plain": [
              "{'fit_intercept': True, 'max_iter': 10, 'solver': 'liblinear'}"
            ]
          },
          "metadata": {
            "tags": []
          },
          "execution_count": 40
        }
      ]
    },
    {
      "cell_type": "markdown",
      "metadata": {
        "id": "OkFfmndgKagk"
      },
      "source": [
        "13. Update the hyperparameters of your model (create and fit a new model with the results of GridSerachCV)"
      ]
    },
    {
      "cell_type": "code",
      "metadata": {
        "id": "tMbtfYrsKg7u"
      },
      "source": [
        "\r\n",
        "lr2 = LogisticRegression(fit_intercept= True, \r\n",
        "                        max_iter= 10 , \r\n",
        "                        solver='liblinear')"
      ],
      "execution_count": 41,
      "outputs": []
    },
    {
      "cell_type": "code",
      "metadata": {
        "id": "ZuYB-9_qKh2o",
        "colab": {
          "base_uri": "https://localhost:8080/"
        },
        "outputId": "fe9c657a-e60c-426a-baae-9c0490aaf4e1"
      },
      "source": [
        "lr2.fit(X_train, y_train)"
      ],
      "execution_count": 42,
      "outputs": [
        {
          "output_type": "stream",
          "text": [
            "/usr/local/lib/python3.6/dist-packages/sklearn/svm/_base.py:947: ConvergenceWarning: Liblinear failed to converge, increase the number of iterations.\n",
            "  \"the number of iterations.\", ConvergenceWarning)\n"
          ],
          "name": "stderr"
        },
        {
          "output_type": "execute_result",
          "data": {
            "text/plain": [
              "LogisticRegression(C=1.0, class_weight=None, dual=False, fit_intercept=True,\n",
              "                   intercept_scaling=1, l1_ratio=None, max_iter=10,\n",
              "                   multi_class='auto', n_jobs=None, penalty='l2',\n",
              "                   random_state=None, solver='liblinear', tol=0.0001, verbose=0,\n",
              "                   warm_start=False)"
            ]
          },
          "metadata": {
            "tags": []
          },
          "execution_count": 42
        }
      ]
    },
    {
      "cell_type": "code",
      "metadata": {
        "id": "0xU4H4xv2YBZ",
        "colab": {
          "base_uri": "https://localhost:8080/"
        },
        "outputId": "ac932760-0ff0-4b59-d47f-229d3843d574"
      },
      "source": [
        "lr2.predict(X_test)"
      ],
      "execution_count": 43,
      "outputs": [
        {
          "output_type": "execute_result",
          "data": {
            "text/plain": [
              "array([0., 0., 0., 1., 1., 1., 0., 1., 1., 1., 0., 0., 0., 0., 1., 1., 0.,\n",
              "       0., 1., 1., 0., 1., 1., 1., 0., 1., 1., 1., 0., 0., 1., 0., 0., 0.,\n",
              "       0., 1., 1., 1., 1., 0., 0., 1., 1., 1., 0., 0., 0., 1., 0., 0., 0.,\n",
              "       1., 1., 0., 1., 1., 0., 0., 1., 1.])"
            ]
          },
          "metadata": {
            "tags": []
          },
          "execution_count": 43
        }
      ]
    },
    {
      "cell_type": "markdown",
      "metadata": {
        "id": "RTih62jiKhHd"
      },
      "source": [
        "14. Score the new model... \r\n",
        "- r2_score\r\n",
        "- some other metric of your choice"
      ]
    },
    {
      "cell_type": "code",
      "metadata": {
        "id": "bHglwkVGKkW7",
        "colab": {
          "base_uri": "https://localhost:8080/"
        },
        "outputId": "1dd28d21-c60b-4fb4-9bd1-aef6af6ae8c2"
      },
      "source": [
        "accuracy_score(y_test,y_test_predict2)"
      ],
      "execution_count": 44,
      "outputs": [
        {
          "output_type": "execute_result",
          "data": {
            "text/plain": [
              "0.9666666666666667"
            ]
          },
          "metadata": {
            "tags": []
          },
          "execution_count": 44
        }
      ]
    },
    {
      "cell_type": "code",
      "metadata": {
        "id": "AgsbHIhqKoQr",
        "colab": {
          "base_uri": "https://localhost:8080/"
        },
        "outputId": "603f9d26-1ae9-4253-dacf-2a1d96774380"
      },
      "source": [
        "from sklearn.metrics import r2_score\r\n",
        "y_true=y_test\r\n",
        "y_pred=y_test_predict2\r\n",
        "\r\n",
        "r2  = r2_score(y_true, y_pred)\r\n",
        "r2\r\n"
      ],
      "execution_count": 45,
      "outputs": [
        {
          "output_type": "execute_result",
          "data": {
            "text/plain": [
              "0.8653198653198654"
            ]
          },
          "metadata": {
            "tags": []
          },
          "execution_count": 45
        }
      ]
    },
    {
      "cell_type": "markdown",
      "metadata": {
        "id": "c3uY8_MnKpXQ"
      },
      "source": [
        "Did the score change at all? Why?"
      ]
    },
    {
      "cell_type": "markdown",
      "metadata": {
        "id": "8xeiVnQSKtYa"
      },
      "source": [
        "no , it did not "
      ]
    },
    {
      "cell_type": "markdown",
      "metadata": {
        "id": "0ja0rEIVe10m"
      },
      "source": [
        "## Bonus\r\n",
        "Set up a SGDClassifier, score it, etc... https://scikit-learn.org/stable/modules/generated/sklearn.linear_model.SGDClassifier.html\r\n",
        "\r\n",
        "Note: you may need more or less code cells, but here's 5."
      ]
    },
    {
      "cell_type": "code",
      "metadata": {
        "id": "cG-tnAtJe3pn"
      },
      "source": [
        "from sklearn.linear_model import SGDClassifier\r\n",
        "\r\n",
        "sgdc = SGDClassifier(max_iter=10000)"
      ],
      "execution_count": 46,
      "outputs": []
    },
    {
      "cell_type": "code",
      "metadata": {
        "id": "lC9SRnnXe_Z1",
        "colab": {
          "base_uri": "https://localhost:8080/"
        },
        "outputId": "0a76996a-d260-4d1d-88fb-c60a39d1f4de"
      },
      "source": [
        "sgdc.fit(X_train, y_train)"
      ],
      "execution_count": 47,
      "outputs": [
        {
          "output_type": "execute_result",
          "data": {
            "text/plain": [
              "SGDClassifier(alpha=0.0001, average=False, class_weight=None,\n",
              "              early_stopping=False, epsilon=0.1, eta0=0.0, fit_intercept=True,\n",
              "              l1_ratio=0.15, learning_rate='optimal', loss='hinge',\n",
              "              max_iter=10000, n_iter_no_change=5, n_jobs=None, penalty='l2',\n",
              "              power_t=0.5, random_state=None, shuffle=True, tol=0.001,\n",
              "              validation_fraction=0.1, verbose=0, warm_start=False)"
            ]
          },
          "metadata": {
            "tags": []
          },
          "execution_count": 47
        }
      ]
    },
    {
      "cell_type": "code",
      "metadata": {
        "id": "hAA4mqNle_ga",
        "colab": {
          "base_uri": "https://localhost:8080/"
        },
        "outputId": "1f0be764-f014-490c-9e61-bafab83a5042"
      },
      "source": [
        "sgdc.predict(X_test)\r\n"
      ],
      "execution_count": 48,
      "outputs": [
        {
          "output_type": "execute_result",
          "data": {
            "text/plain": [
              "array([1., 1., 1., 1., 1., 1., 1., 1., 1., 1., 1., 1., 1., 1., 1., 1., 1.,\n",
              "       1., 1., 1., 1., 1., 1., 1., 1., 1., 1., 1., 1., 1., 1., 1., 1., 1.,\n",
              "       1., 1., 1., 1., 1., 1., 1., 1., 1., 1., 1., 1., 1., 1., 1., 1., 1.,\n",
              "       1., 1., 1., 1., 1., 1., 1., 1., 1.])"
            ]
          },
          "metadata": {
            "tags": []
          },
          "execution_count": 48
        }
      ]
    },
    {
      "cell_type": "code",
      "metadata": {
        "id": "JEVNl-ISe_kV",
        "colab": {
          "base_uri": "https://localhost:8080/"
        },
        "outputId": "6117666b-7d8f-47d1-adf6-3e0673e4b338"
      },
      "source": [
        "preds = sgdc.predict(X_test)\r\n",
        "\r\n",
        "accuracy_score(y_test, preds)"
      ],
      "execution_count": 49,
      "outputs": [
        {
          "output_type": "execute_result",
          "data": {
            "text/plain": [
              "0.45"
            ]
          },
          "metadata": {
            "tags": []
          },
          "execution_count": 49
        }
      ]
    },
    {
      "cell_type": "code",
      "metadata": {
        "id": "u08Q2TKTfAHM"
      },
      "source": [
        "from sklearn.model_selection import GridSearchCV\r\n",
        "\r\n",
        "param_dict = {'loss': ['log', 'huber', 'epsilon_insensitive', 'squared_epsilon_insensitive'],\r\n",
        "              'max_iter': [10, 100, 250, 1000, 10000]}\r\n",
        "\r\n",
        "sgdc = SGDClassifier()\r\n",
        "\r\n",
        "grid = GridSearchCV(sgdc, param_dict)"
      ],
      "execution_count": 50,
      "outputs": []
    },
    {
      "cell_type": "code",
      "metadata": {
        "id": "0WT-f5al7Ijk",
        "colab": {
          "base_uri": "https://localhost:8080/"
        },
        "outputId": "9defb47c-2b5b-412d-e423-0166769420de"
      },
      "source": [
        "grid.fit(X_train, y_train)\r\n"
      ],
      "execution_count": 51,
      "outputs": [
        {
          "output_type": "stream",
          "text": [
            "/usr/local/lib/python3.6/dist-packages/sklearn/linear_model/_stochastic_gradient.py:557: ConvergenceWarning: Maximum number of iteration reached before convergence. Consider increasing max_iter to improve the fit.\n",
            "  ConvergenceWarning)\n",
            "/usr/local/lib/python3.6/dist-packages/sklearn/linear_model/_stochastic_gradient.py:557: ConvergenceWarning: Maximum number of iteration reached before convergence. Consider increasing max_iter to improve the fit.\n",
            "  ConvergenceWarning)\n",
            "/usr/local/lib/python3.6/dist-packages/sklearn/linear_model/_stochastic_gradient.py:557: ConvergenceWarning: Maximum number of iteration reached before convergence. Consider increasing max_iter to improve the fit.\n",
            "  ConvergenceWarning)\n",
            "/usr/local/lib/python3.6/dist-packages/sklearn/linear_model/_stochastic_gradient.py:557: ConvergenceWarning: Maximum number of iteration reached before convergence. Consider increasing max_iter to improve the fit.\n",
            "  ConvergenceWarning)\n",
            "/usr/local/lib/python3.6/dist-packages/sklearn/linear_model/_stochastic_gradient.py:557: ConvergenceWarning: Maximum number of iteration reached before convergence. Consider increasing max_iter to improve the fit.\n",
            "  ConvergenceWarning)\n",
            "/usr/local/lib/python3.6/dist-packages/sklearn/linear_model/_stochastic_gradient.py:557: ConvergenceWarning: Maximum number of iteration reached before convergence. Consider increasing max_iter to improve the fit.\n",
            "  ConvergenceWarning)\n",
            "/usr/local/lib/python3.6/dist-packages/sklearn/linear_model/_stochastic_gradient.py:557: ConvergenceWarning: Maximum number of iteration reached before convergence. Consider increasing max_iter to improve the fit.\n",
            "  ConvergenceWarning)\n",
            "/usr/local/lib/python3.6/dist-packages/sklearn/linear_model/_stochastic_gradient.py:557: ConvergenceWarning: Maximum number of iteration reached before convergence. Consider increasing max_iter to improve the fit.\n",
            "  ConvergenceWarning)\n",
            "/usr/local/lib/python3.6/dist-packages/sklearn/linear_model/_stochastic_gradient.py:557: ConvergenceWarning: Maximum number of iteration reached before convergence. Consider increasing max_iter to improve the fit.\n",
            "  ConvergenceWarning)\n",
            "/usr/local/lib/python3.6/dist-packages/sklearn/linear_model/_stochastic_gradient.py:557: ConvergenceWarning: Maximum number of iteration reached before convergence. Consider increasing max_iter to improve the fit.\n",
            "  ConvergenceWarning)\n",
            "/usr/local/lib/python3.6/dist-packages/sklearn/linear_model/_stochastic_gradient.py:557: ConvergenceWarning: Maximum number of iteration reached before convergence. Consider increasing max_iter to improve the fit.\n",
            "  ConvergenceWarning)\n",
            "/usr/local/lib/python3.6/dist-packages/sklearn/linear_model/_stochastic_gradient.py:557: ConvergenceWarning: Maximum number of iteration reached before convergence. Consider increasing max_iter to improve the fit.\n",
            "  ConvergenceWarning)\n",
            "/usr/local/lib/python3.6/dist-packages/sklearn/linear_model/_stochastic_gradient.py:557: ConvergenceWarning: Maximum number of iteration reached before convergence. Consider increasing max_iter to improve the fit.\n",
            "  ConvergenceWarning)\n",
            "/usr/local/lib/python3.6/dist-packages/sklearn/linear_model/_stochastic_gradient.py:557: ConvergenceWarning: Maximum number of iteration reached before convergence. Consider increasing max_iter to improve the fit.\n",
            "  ConvergenceWarning)\n",
            "/usr/local/lib/python3.6/dist-packages/sklearn/linear_model/_stochastic_gradient.py:557: ConvergenceWarning: Maximum number of iteration reached before convergence. Consider increasing max_iter to improve the fit.\n",
            "  ConvergenceWarning)\n",
            "/usr/local/lib/python3.6/dist-packages/sklearn/linear_model/_stochastic_gradient.py:557: ConvergenceWarning: Maximum number of iteration reached before convergence. Consider increasing max_iter to improve the fit.\n",
            "  ConvergenceWarning)\n",
            "/usr/local/lib/python3.6/dist-packages/sklearn/linear_model/_stochastic_gradient.py:557: ConvergenceWarning: Maximum number of iteration reached before convergence. Consider increasing max_iter to improve the fit.\n",
            "  ConvergenceWarning)\n",
            "/usr/local/lib/python3.6/dist-packages/sklearn/linear_model/_stochastic_gradient.py:557: ConvergenceWarning: Maximum number of iteration reached before convergence. Consider increasing max_iter to improve the fit.\n",
            "  ConvergenceWarning)\n",
            "/usr/local/lib/python3.6/dist-packages/sklearn/linear_model/_stochastic_gradient.py:557: ConvergenceWarning: Maximum number of iteration reached before convergence. Consider increasing max_iter to improve the fit.\n",
            "  ConvergenceWarning)\n",
            "/usr/local/lib/python3.6/dist-packages/sklearn/linear_model/_stochastic_gradient.py:557: ConvergenceWarning: Maximum number of iteration reached before convergence. Consider increasing max_iter to improve the fit.\n",
            "  ConvergenceWarning)\n",
            "/usr/local/lib/python3.6/dist-packages/sklearn/linear_model/_stochastic_gradient.py:557: ConvergenceWarning: Maximum number of iteration reached before convergence. Consider increasing max_iter to improve the fit.\n",
            "  ConvergenceWarning)\n",
            "/usr/local/lib/python3.6/dist-packages/sklearn/linear_model/_stochastic_gradient.py:557: ConvergenceWarning: Maximum number of iteration reached before convergence. Consider increasing max_iter to improve the fit.\n",
            "  ConvergenceWarning)\n",
            "/usr/local/lib/python3.6/dist-packages/sklearn/linear_model/_stochastic_gradient.py:557: ConvergenceWarning: Maximum number of iteration reached before convergence. Consider increasing max_iter to improve the fit.\n",
            "  ConvergenceWarning)\n",
            "/usr/local/lib/python3.6/dist-packages/sklearn/linear_model/_stochastic_gradient.py:557: ConvergenceWarning: Maximum number of iteration reached before convergence. Consider increasing max_iter to improve the fit.\n",
            "  ConvergenceWarning)\n",
            "/usr/local/lib/python3.6/dist-packages/sklearn/linear_model/_stochastic_gradient.py:557: ConvergenceWarning: Maximum number of iteration reached before convergence. Consider increasing max_iter to improve the fit.\n",
            "  ConvergenceWarning)\n",
            "/usr/local/lib/python3.6/dist-packages/sklearn/linear_model/_stochastic_gradient.py:557: ConvergenceWarning: Maximum number of iteration reached before convergence. Consider increasing max_iter to improve the fit.\n",
            "  ConvergenceWarning)\n",
            "/usr/local/lib/python3.6/dist-packages/sklearn/linear_model/_stochastic_gradient.py:557: ConvergenceWarning: Maximum number of iteration reached before convergence. Consider increasing max_iter to improve the fit.\n",
            "  ConvergenceWarning)\n",
            "/usr/local/lib/python3.6/dist-packages/sklearn/linear_model/_stochastic_gradient.py:557: ConvergenceWarning: Maximum number of iteration reached before convergence. Consider increasing max_iter to improve the fit.\n",
            "  ConvergenceWarning)\n",
            "/usr/local/lib/python3.6/dist-packages/sklearn/linear_model/_stochastic_gradient.py:557: ConvergenceWarning: Maximum number of iteration reached before convergence. Consider increasing max_iter to improve the fit.\n",
            "  ConvergenceWarning)\n",
            "/usr/local/lib/python3.6/dist-packages/sklearn/linear_model/_stochastic_gradient.py:557: ConvergenceWarning: Maximum number of iteration reached before convergence. Consider increasing max_iter to improve the fit.\n",
            "  ConvergenceWarning)\n",
            "/usr/local/lib/python3.6/dist-packages/sklearn/linear_model/_stochastic_gradient.py:557: ConvergenceWarning: Maximum number of iteration reached before convergence. Consider increasing max_iter to improve the fit.\n",
            "  ConvergenceWarning)\n",
            "/usr/local/lib/python3.6/dist-packages/sklearn/linear_model/_stochastic_gradient.py:557: ConvergenceWarning: Maximum number of iteration reached before convergence. Consider increasing max_iter to improve the fit.\n",
            "  ConvergenceWarning)\n",
            "/usr/local/lib/python3.6/dist-packages/sklearn/linear_model/_stochastic_gradient.py:557: ConvergenceWarning: Maximum number of iteration reached before convergence. Consider increasing max_iter to improve the fit.\n",
            "  ConvergenceWarning)\n",
            "/usr/local/lib/python3.6/dist-packages/sklearn/linear_model/_stochastic_gradient.py:557: ConvergenceWarning: Maximum number of iteration reached before convergence. Consider increasing max_iter to improve the fit.\n",
            "  ConvergenceWarning)\n",
            "/usr/local/lib/python3.6/dist-packages/sklearn/linear_model/_stochastic_gradient.py:557: ConvergenceWarning: Maximum number of iteration reached before convergence. Consider increasing max_iter to improve the fit.\n",
            "  ConvergenceWarning)\n",
            "/usr/local/lib/python3.6/dist-packages/sklearn/linear_model/_stochastic_gradient.py:557: ConvergenceWarning: Maximum number of iteration reached before convergence. Consider increasing max_iter to improve the fit.\n",
            "  ConvergenceWarning)\n"
          ],
          "name": "stderr"
        },
        {
          "output_type": "execute_result",
          "data": {
            "text/plain": [
              "GridSearchCV(cv=None, error_score=nan,\n",
              "             estimator=SGDClassifier(alpha=0.0001, average=False,\n",
              "                                     class_weight=None, early_stopping=False,\n",
              "                                     epsilon=0.1, eta0=0.0, fit_intercept=True,\n",
              "                                     l1_ratio=0.15, learning_rate='optimal',\n",
              "                                     loss='hinge', max_iter=1000,\n",
              "                                     n_iter_no_change=5, n_jobs=None,\n",
              "                                     penalty='l2', power_t=0.5,\n",
              "                                     random_state=None, shuffle=True, tol=0.001,\n",
              "                                     validation_fraction=0.1, verbose=0,\n",
              "                                     warm_start=False),\n",
              "             iid='deprecated', n_jobs=None,\n",
              "             param_grid={'loss': ['log', 'huber', 'epsilon_insensitive',\n",
              "                                  'squared_epsilon_insensitive'],\n",
              "                         'max_iter': [10, 100, 250, 1000, 10000]},\n",
              "             pre_dispatch='2*n_jobs', refit=True, return_train_score=False,\n",
              "             scoring=None, verbose=0)"
            ]
          },
          "metadata": {
            "tags": []
          },
          "execution_count": 51
        }
      ]
    },
    {
      "cell_type": "code",
      "metadata": {
        "id": "bxbDjPVC7Ipn",
        "colab": {
          "base_uri": "https://localhost:8080/"
        },
        "outputId": "a464ef23-6f7f-46b7-941e-178700b52d7d"
      },
      "source": [
        "grid.best_params_\r\n"
      ],
      "execution_count": 52,
      "outputs": [
        {
          "output_type": "execute_result",
          "data": {
            "text/plain": [
              "{'loss': 'squared_epsilon_insensitive', 'max_iter': 250}"
            ]
          },
          "metadata": {
            "tags": []
          },
          "execution_count": 52
        }
      ]
    },
    {
      "cell_type": "code",
      "metadata": {
        "id": "J9pyqVdF7IwY"
      },
      "source": [
        "sgdc = SGDClassifier(loss='squared_epsilon_insensitive', max_iter=250)"
      ],
      "execution_count": 57,
      "outputs": []
    },
    {
      "cell_type": "code",
      "metadata": {
        "id": "bFYVkwaT7PZn",
        "colab": {
          "base_uri": "https://localhost:8080/"
        },
        "outputId": "49aec94e-1e93-4cb6-a01a-37e8a21c2fff"
      },
      "source": [
        "sgdc.fit(X_train, y_train)"
      ],
      "execution_count": 58,
      "outputs": [
        {
          "output_type": "execute_result",
          "data": {
            "text/plain": [
              "SGDClassifier(alpha=0.0001, average=False, class_weight=None,\n",
              "              early_stopping=False, epsilon=0.1, eta0=0.0, fit_intercept=True,\n",
              "              l1_ratio=0.15, learning_rate='optimal',\n",
              "              loss='squared_epsilon_insensitive', max_iter=250,\n",
              "              n_iter_no_change=5, n_jobs=None, penalty='l2', power_t=0.5,\n",
              "              random_state=None, shuffle=True, tol=0.001,\n",
              "              validation_fraction=0.1, verbose=0, warm_start=False)"
            ]
          },
          "metadata": {
            "tags": []
          },
          "execution_count": 58
        }
      ]
    },
    {
      "cell_type": "code",
      "metadata": {
        "id": "YfJiHKJe7REd",
        "colab": {
          "base_uri": "https://localhost:8080/"
        },
        "outputId": "1c85ba9b-9b89-42f1-9b44-e8b745a89626"
      },
      "source": [
        "preds = sgdc.predict(X_test)\r\n",
        "\r\n",
        "accuracy_score(y_test, preds)"
      ],
      "execution_count": 59,
      "outputs": [
        {
          "output_type": "execute_result",
          "data": {
            "text/plain": [
              "0.55"
            ]
          },
          "metadata": {
            "tags": []
          },
          "execution_count": 59
        }
      ]
    },
    {
      "cell_type": "code",
      "metadata": {
        "colab": {
          "base_uri": "https://localhost:8080/"
        },
        "id": "xUH7JPZt8DH9",
        "outputId": "f823671c-0188-4125-cce5-5eaaaae02533"
      },
      "source": [
        "from sklearn.metrics import r2_score\r\n",
        "y_true=y_test\r\n",
        "y_pred=y_test_predict2\r\n",
        "\r\n",
        "r2  = r2_score(y_true, preds)\r\n",
        "r2"
      ],
      "execution_count": 60,
      "outputs": [
        {
          "output_type": "execute_result",
          "data": {
            "text/plain": [
              "-0.8181818181818179"
            ]
          },
          "metadata": {
            "tags": []
          },
          "execution_count": 60
        }
      ]
    }
  ]
}